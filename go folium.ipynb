{
 "cells": [
  {
   "cell_type": "markdown",
   "metadata": {},
   "source": [
    "# Example of choropleth for the State of Goias\n",
    "### Exemplo de choropleth para o Estado de Goiás"
   ]
  },
  {
   "cell_type": "code",
   "execution_count": null,
   "metadata": {},
   "outputs": [],
   "source": [
    "import geopandas as gpd\n",
    "import pandas as pd\n",
    "import folium\n",
    "import json\n",
    "from branca.element import Figure\n",
    "from folium import plugins\n",
    "print(folium.__version__)"
   ]
  },
  {
   "cell_type": "code",
   "execution_count": null,
   "metadata": {},
   "outputs": [],
   "source": [
    "gdf = gpd.read_file('data/shapefile/52MUE250GC_SIR.shp')\n",
    "#Converte Shapefile em formato JSON\n",
    "gdfjson = json.loads(gdf.to_json())"
   ]
  },
  {
   "cell_type": "code",
   "execution_count": null,
   "metadata": {},
   "outputs": [],
   "source": [
    "gdf.head(3)"
   ]
  },
  {
   "cell_type": "code",
   "execution_count": null,
   "metadata": {},
   "outputs": [],
   "source": [
    "#DataFrame para completer exemplo pib percapita GO\n",
    "pibper = pd.read_excel('data/gopibper.xlsx') \n",
    "#Importante colocar a primeira coluna na mesma ordem dados geometry \n",
    "pibper = pibper[['NM_MUNICIP', 'CD_GEOCMU', 'pib_percapita']] \n",
    "pibper.head(3)"
   ]
  },
  {
   "cell_type": "code",
   "execution_count": null,
   "metadata": {},
   "outputs": [],
   "source": [
    "#Tamanho que irá aparecer o map \n",
    "width, height = 500, 400"
   ]
  },
  {
   "cell_type": "code",
   "execution_count": null,
   "metadata": {},
   "outputs": [],
   "source": [
    "from branca.utilities import split_six\n",
    "\n",
    "#Melhorar divisão de cores em quantis do map\n",
    "threshold_scale = split_six(pibper['pib_percapita'])\n",
    "\n",
    "m = folium.Map(location=[-16, -49], tiles='Cartodb Positron', zoom_start=6)\n",
    "m.choropleth(\n",
    "    geo_data = gdfjson,\n",
    "    data=pibper,\n",
    "    columns=['NM_MUNICIP', 'pib_percapita'],\n",
    "    key_on='feature.properties.NM_MUNICIP',\n",
    "    fill_color='RdPu',\n",
    "    fill_opacity=0.9,\n",
    "    line_opacity=0.2,\n",
    "    legend_name='teste',\n",
    "    highlight=True,\n",
    "    threshold_scale=threshold_scale\n",
    ")\n",
    "\n",
    "\n",
    "\n",
    "m.save('GeoJSON_and_choropleth_11.html')\n",
    "\n",
    "fig = Figure(width=width, height=height) #Ajustar ao jupyter\n",
    "fig.add_child(m) #Ajustar ao jupyter\n",
    "fig #Ajustar ao jupyter"
   ]
  },
  {
   "cell_type": "code",
   "execution_count": null,
   "metadata": {},
   "outputs": [],
   "source": [
    "#Usar este comando porque tem erro folium quando a muitos polygon\n",
    "from IPython.display import IFrame\n",
    "url = 'GeoJSON_and_choropleth_11.html'\n",
    "IFrame(url, width=width, height=width)"
   ]
  },
  {
   "cell_type": "markdown",
   "metadata": {},
   "source": [
    "* Para mais detalhes e dúvidas consulte exemplo: https://github.com/vhfdoliveira/DataScience/blob/master/03_Choropleth/Northeast_Chropleth_map.ipynb"
   ]
  },
  {
   "cell_type": "code",
   "execution_count": null,
   "metadata": {},
   "outputs": [],
   "source": []
  }
 ],
 "metadata": {
  "kernelspec": {
   "display_name": "Python 3",
   "language": "python",
   "name": "python3"
  },
  "language_info": {
   "codemirror_mode": {
    "name": "ipython",
    "version": 3
   },
   "file_extension": ".py",
   "mimetype": "text/x-python",
   "name": "python",
   "nbconvert_exporter": "python",
   "pygments_lexer": "ipython3",
   "version": "3.7.6"
  }
 },
 "nbformat": 4,
 "nbformat_minor": 4
}
