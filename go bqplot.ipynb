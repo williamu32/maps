{
 "cells": [
  {
   "cell_type": "markdown",
   "metadata": {},
   "source": [
    "# Example of choropleth for the State of Goias\n",
    "### Exemplo de choropleth para o Estado de Goiás"
   ]
  },
  {
   "cell_type": "code",
   "execution_count": 1,
   "metadata": {},
   "outputs": [],
   "source": [
    "import requests\n",
    "import geopandas as gpd\n",
    "import pandas as pd\n",
    "import json\n",
    "import ipywidgets as widgets\n",
    "from bqplot import (\n",
    "    Figure, Map, Mercator, ColorScale, ColorAxis,\n",
    "    Tooltip\n",
    ")"
   ]
  },
  {
   "cell_type": "code",
   "execution_count": 2,
   "metadata": {},
   "outputs": [
    {
     "name": "stdout",
     "output_type": "stream",
     "text": [
      "dict_keys(['type', 'crs', 'features'])\n",
      "############################################\n"
     ]
    }
   ],
   "source": [
    "#Acesso API Ibge malhas GO\n",
    "url = 'http://servicodados.ibge.gov.br/api/v2/malhas/52/?resolucao=5'\n",
    "headers = {'Accept': 'application/vnd.geo+json'}\n",
    "r = requests.get(url, headers=headers)\n",
    "#Resposta do API em JSON\n",
    "j = r.json()\n",
    "#Visualuar chaves JSON\n",
    "print(j.keys())\n",
    "print('############################################')\n",
    "\n",
    "#Acesso API Ibge Localidades id e nome municipios GO\n",
    "urlmun = requests.get('http://servicodados.ibge.gov.br/api/v1/localidades/estados/52/municipios')\n",
    "mun = urlmun.json()\n",
    "#Visualizar lista mun JSON\n",
    "#print(mun[1])"
   ]
  },
  {
   "cell_type": "code",
   "execution_count": 3,
   "metadata": {},
   "outputs": [],
   "source": [
    "#Converter JSON informando keys em GeoDataFrame\n",
    "goias = gpd.GeoDataFrame.from_features(j['features'])\n",
    "goias.rename(columns={'codarea': 'id'}, inplace=True)\n",
    "goias.id = goias.id.astype('int64')\n",
    "#goias.id.dtype"
   ]
  },
  {
   "cell_type": "code",
   "execution_count": 4,
   "metadata": {},
   "outputs": [],
   "source": [
    "#DataFrame apenas com id e nome\n",
    "dfmun = pd.DataFrame(mun, columns=['id', 'nome'])\n",
    "#dfmun.id.dtype"
   ]
  },
  {
   "cell_type": "code",
   "execution_count": 5,
   "metadata": {},
   "outputs": [],
   "source": [
    "pibgo = pd.read_excel('data/gopibper.xlsx', usecols=[0,2])\n",
    "pibgo.rename(columns={'CD_GEOCMU': 'id'}, inplace=True)\n",
    "#pibgo.id.dtype"
   ]
  },
  {
   "cell_type": "code",
   "execution_count": 6,
   "metadata": {},
   "outputs": [],
   "source": [
    "#Verificar de Key dos DataFrames são iguais\n",
    "#Junta do DataFrames \n",
    "#Abaixo converte para mesmo formato \n",
    "#Merge ou mescla dos DataFrame\n",
    "gdf = gpd.GeoDataFrame(pd.merge(pd.merge(goias, dfmun), pibgo))"
   ]
  },
  {
   "cell_type": "code",
   "execution_count": 7,
   "metadata": {
    "scrolled": true
   },
   "outputs": [
    {
     "data": {
      "text/html": [
       "<div>\n",
       "<style scoped>\n",
       "    .dataframe tbody tr th:only-of-type {\n",
       "        vertical-align: middle;\n",
       "    }\n",
       "\n",
       "    .dataframe tbody tr th {\n",
       "        vertical-align: top;\n",
       "    }\n",
       "\n",
       "    .dataframe thead th {\n",
       "        text-align: right;\n",
       "    }\n",
       "</style>\n",
       "<table border=\"1\" class=\"dataframe\">\n",
       "  <thead>\n",
       "    <tr style=\"text-align: right;\">\n",
       "      <th></th>\n",
       "      <th>centroide</th>\n",
       "      <th>id</th>\n",
       "      <th>geometry</th>\n",
       "      <th>nome</th>\n",
       "      <th>pib_percapita</th>\n",
       "    </tr>\n",
       "  </thead>\n",
       "  <tbody>\n",
       "    <tr>\n",
       "      <th>0</th>\n",
       "      <td>[-52.04564444334576, -18.76783675713795]</td>\n",
       "      <td>5201504</td>\n",
       "      <td>(POLYGON ((-51.8966 -18.633, -51.8832 -18.6663...</td>\n",
       "      <td>Aporé</td>\n",
       "      <td>57434</td>\n",
       "    </tr>\n",
       "    <tr>\n",
       "      <th>1</th>\n",
       "      <td>[-52.1468663901787, -15.970150495669516]</td>\n",
       "      <td>5201702</td>\n",
       "      <td>(POLYGON ((-51.8796 -15.8253, -51.8651 -15.827...</td>\n",
       "      <td>Aragarças</td>\n",
       "      <td>10877</td>\n",
       "    </tr>\n",
       "    <tr>\n",
       "      <th>2</th>\n",
       "      <td>[-52.43802923762304, -16.360548844328463]</td>\n",
       "      <td>5203104</td>\n",
       "      <td>(POLYGON ((-52.2997 -16.167, -52.2913 -16.1899...</td>\n",
       "      <td>Baliza</td>\n",
       "      <td>14688</td>\n",
       "    </tr>\n",
       "  </tbody>\n",
       "</table>\n",
       "</div>"
      ],
      "text/plain": [
       "                                   centroide       id  \\\n",
       "0   [-52.04564444334576, -18.76783675713795]  5201504   \n",
       "1   [-52.1468663901787, -15.970150495669516]  5201702   \n",
       "2  [-52.43802923762304, -16.360548844328463]  5203104   \n",
       "\n",
       "                                            geometry       nome  pib_percapita  \n",
       "0  (POLYGON ((-51.8966 -18.633, -51.8832 -18.6663...      Aporé          57434  \n",
       "1  (POLYGON ((-51.8796 -15.8253, -51.8651 -15.827...  Aragarças          10877  \n",
       "2  (POLYGON ((-52.2997 -16.167, -52.2913 -16.1899...     Baliza          14688  "
      ]
     },
     "execution_count": 7,
     "metadata": {},
     "output_type": "execute_result"
    }
   ],
   "source": [
    "gdf.head(3)"
   ]
  },
  {
   "cell_type": "code",
   "execution_count": 8,
   "metadata": {},
   "outputs": [],
   "source": [
    "#Ler JSON\n",
    "goias = json.loads(gdf.to_json())\n",
    "#print(type(goias))"
   ]
  },
  {
   "cell_type": "code",
   "execution_count": 9,
   "metadata": {},
   "outputs": [],
   "source": [
    "gdf['A'] = list(range(len(gdf.index)))"
   ]
  },
  {
   "cell_type": "code",
   "execution_count": null,
   "metadata": {},
   "outputs": [],
   "source": [
    "sc_geo = Mercator(scale_factor=6000, center= (-49.555, -14.8799))\n",
    "def_tt = Tooltip(fields=['nome', 'pib_percapita'], labels=['Município', 'PIB per capita $'], formats=['', '$,'])\n",
    "\n",
    "sc_c1 = ColorScale(colors=['Red', 'Gray', 'DeepSkyBlue'])\n",
    "\n",
    "#sc_c1 = ColorScale(scheme='PuBu')\n",
    "#sc_c1 = ColorScale(colors=['#63f5cb', 'Gray', 'DeepSkyBlue'])\n",
    "\n",
    "\n",
    "map_styles = {'color': dict(zip(gdf['A'], gdf['pib_percapita'].astype(float))),\n",
    "              'scales': {'projection': sc_geo, 'color': sc_c1}, 'colors': {'default_color': 'Grey'}}\n",
    "\n",
    "axis = ColorAxis(scale=sc_c1, tick_format='.2s', num_ticks=5)\n",
    "\n",
    "chloro_map = Map(map_data=goias, tooltip=def_tt, **map_styles)\n",
    "Figure(marks=[chloro_map], axes=[axis],title='Choropleth Example GO', \n",
    "       fig_margin={'right':60, 'left':60, 'top':60, 'bottom':60},\n",
    "      layout=widgets.Layout(width='600px',height='600px'))"
   ]
  },
  {
   "cell_type": "code",
   "execution_count": null,
   "metadata": {},
   "outputs": [],
   "source": []
  }
 ],
 "metadata": {
  "kernelspec": {
   "display_name": "Python 3",
   "language": "python",
   "name": "python3"
  },
  "language_info": {
   "codemirror_mode": {
    "name": "ipython",
    "version": 3
   },
   "file_extension": ".py",
   "mimetype": "text/x-python",
   "name": "python",
   "nbconvert_exporter": "python",
   "pygments_lexer": "ipython3",
   "version": "3.6.4"
  }
 },
 "nbformat": 4,
 "nbformat_minor": 2
}
