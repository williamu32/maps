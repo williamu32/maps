{
 "cells": [
  {
   "cell_type": "markdown",
   "metadata": {},
   "source": [
    "# Example of choropleth for the State of Goias\n",
    "### Exemplo de choropleth para o Estado de Goiás"
   ]
  },
  {
   "cell_type": "code",
   "execution_count": null,
   "metadata": {},
   "outputs": [],
   "source": [
    "import requests\n",
    "import geopandas as gpd\n",
    "import pandas as pd"
   ]
  },
  {
   "cell_type": "code",
   "execution_count": null,
   "metadata": {},
   "outputs": [],
   "source": [
    "#Acesso API Ibge malhas GO\n",
    "url = 'http://servicodados.ibge.gov.br/api/v2/malhas/52/?resolucao=5'\n",
    "headers = {'Accept': 'application/vnd.geo+json'}\n",
    "r = requests.get(url, headers=headers)\n",
    "#Resposta do API em JSON\n",
    "j = r.json()\n",
    "#Visualuar chaves JSON\n",
    "print(j.keys())\n",
    "print('############################################')\n",
    "\n",
    "#Acesso API Ibge Localidades id e nome municipios GO\n",
    "urlmun = requests.get('http://servicodados.ibge.gov.br/api/v1/localidades/estados/52/municipios')\n",
    "mun = urlmun.json()\n",
    "#Visualizar lista mun JSON\n",
    "print(mun[1])"
   ]
  },
  {
   "cell_type": "code",
   "execution_count": null,
   "metadata": {},
   "outputs": [],
   "source": [
    "#Converter JSON informando keys em GeoDataFrame\n",
    "goias = gpd.GeoDataFrame.from_features(j['features'])\n",
    "goias.rename(columns={'codarea': 'id'}, inplace=True)\n",
    "goias.id = goias.id.astype('int64')\n",
    "goias.id.dtype"
   ]
  },
  {
   "cell_type": "code",
   "execution_count": null,
   "metadata": {},
   "outputs": [],
   "source": [
    "#DataFrame apenas com id e nome\n",
    "dfmun = pd.DataFrame(mun, columns=['id', 'nome'])\n",
    "dfmun.id.dtype"
   ]
  },
  {
   "cell_type": "code",
   "execution_count": null,
   "metadata": {},
   "outputs": [],
   "source": [
    "pibgo = pd.read_excel('data/gopibper.xlsx', usecols=[0,2])\n",
    "pibgo.rename(columns={'CD_GEOCMU': 'id'}, inplace=True)\n",
    "pibgo.id.dtype"
   ]
  },
  {
   "cell_type": "code",
   "execution_count": null,
   "metadata": {},
   "outputs": [],
   "source": [
    "#Verificar de Key dos DataFrames são iguais\n",
    "#Junta do DataFrames \n",
    "#Abaixo converte para mesmo formato \n",
    "#Merge ou mescla dos DataFrame\n",
    "gdf = gpd.GeoDataFrame(pd.merge(pd.merge(goias, dfmun), pibgo))"
   ]
  },
  {
   "cell_type": "code",
   "execution_count": null,
   "metadata": {
    "scrolled": true
   },
   "outputs": [],
   "source": [
    "gdf.head(3)"
   ]
  },
  {
   "cell_type": "code",
   "execution_count": null,
   "metadata": {},
   "outputs": [],
   "source": [
    "from bokeh.plotting import figure \n",
    "from bokeh.io import output_file, output_notebook, show\n",
    "from bokeh.palettes import Viridis8 as palette\n",
    "from bokeh.models import (\n",
    "    GeoJSONDataSource,\n",
    "    HoverTool,\n",
    "    #LinearColorMapper\n",
    "    LogColorMapper,\n",
    "    LogTicker, \n",
    "    ColorBar\n",
    ")\n",
    "\n",
    "palette.reverse()\n",
    "\n",
    "#Transformar Geopandas em GeoJSONDataSource\n",
    "geo_source = GeoJSONDataSource(geojson=gdf.to_json())\n",
    "\n",
    "#Set cor do mapa\n",
    "color_mapper = LogColorMapper(palette=palette)\n",
    "\n",
    "#Ferramentas do grafico\n",
    "TOOLS = \"pan,wheel_zoom,box_zoom,reset,hover,save\"\n",
    "\n",
    "#Configuração do eixo e tamanho do grafico\n",
    "p = figure(title=\"GOIÁS\", tools=TOOLS, x_axis_location=None, y_axis_location=None, width=520, height=540)\n",
    "p.grid.grid_line_color = None\n",
    "p.background_fill_color = \"#eaeaea\"\n",
    "p.border_fill_color = None\n",
    "p.outline_line_color = None\n",
    "\n",
    "\n",
    "#Irá colorir o mapa field com dados de 2014\n",
    "p.patches('xs', 'ys', fill_alpha=0.7, fill_color={'field': 'pib_percapita', 'transform': color_mapper}, \n",
    "          line_color='white', line_width=0.5, source=geo_source, hover_color='orange', hover_alpha=0.5\n",
    "         )\n",
    "\n",
    "color_bar = ColorBar(color_mapper=color_mapper, ticker=LogTicker(),\n",
    "                     label_standoff=12, border_line_color= None, location=(0,0))\n",
    "\n",
    "#Interação com mouse\n",
    "hover = p.select_one(HoverTool)\n",
    "hover.point_policy = \"follow_mouse\"\n",
    "hover.tooltips = [(\"Município\", \"@nome\"), ('PIB per capita', '@{pib_percapita}{$0.0,}')]\n",
    "\n",
    "p.add_layout(color_bar, 'right')\n",
    "#output_file(\"goias.html\")\n",
    "output_notebook()"
   ]
  },
  {
   "cell_type": "code",
   "execution_count": null,
   "metadata": {},
   "outputs": [],
   "source": [
    "show(p)"
   ]
  },
  {
   "cell_type": "code",
   "execution_count": null,
   "metadata": {},
   "outputs": [],
   "source": []
  }
 ],
 "metadata": {
  "kernelspec": {
   "display_name": "Python 3",
   "language": "python",
   "name": "python3"
  },
  "language_info": {
   "codemirror_mode": {
    "name": "ipython",
    "version": 3
   },
   "file_extension": ".py",
   "mimetype": "text/x-python",
   "name": "python",
   "nbconvert_exporter": "python",
   "pygments_lexer": "ipython3",
   "version": "3.6.4"
  }
 },
 "nbformat": 4,
 "nbformat_minor": 2
}
