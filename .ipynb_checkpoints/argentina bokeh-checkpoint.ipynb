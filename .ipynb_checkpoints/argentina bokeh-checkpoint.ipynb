{
 "cells": [
  {
   "cell_type": "markdown",
   "metadata": {},
   "source": [
    "# Example of map to Argentina\n",
    "### Exemplo de mapa para a Argentina"
   ]
  },
  {
   "cell_type": "code",
   "execution_count": null,
   "metadata": {},
   "outputs": [],
   "source": [
    "import geopandas as gpd\n",
    "#arquivo baixado http://datar.noip.me/dataset/estadisticas-criminales-2014-2015\n",
    "ar = gpd.read_file('data/argentina.geojson')"
   ]
  },
  {
   "cell_type": "code",
   "execution_count": null,
   "metadata": {
    "scrolled": false
   },
   "outputs": [],
   "source": [
    "geojson = ar.to_json()\n",
    "print(type(geojson))"
   ]
  },
  {
   "cell_type": "code",
   "execution_count": null,
   "metadata": {},
   "outputs": [],
   "source": [
    "#ar.plot();"
   ]
  },
  {
   "cell_type": "code",
   "execution_count": null,
   "metadata": {},
   "outputs": [],
   "source": [
    "from bokeh.plotting import figure \n",
    "from bokeh.io import output_notebook, show\n",
    "from bokeh.palettes import Viridis256 as palette\n",
    "from bokeh.models import (\n",
    "    GeoJSONDataSource,\n",
    "    HoverTool,\n",
    "    #LinearColorMapper\n",
    "    LogColorMapper\n",
    ")\n",
    "\n",
    "palette.reverse()\n",
    "\n",
    "#Transformar Geopandas em GeoJSONDataSource\n",
    "geo_source = GeoJSONDataSource(geojson=ar.to_json())\n",
    "\n",
    "#Set cor do mapa\n",
    "color_mapper = LogColorMapper(palette=palette)\n",
    "\n",
    "#Ferramentas do grafico\n",
    "TOOLS = \"pan,wheel_zoom,box_zoom,reset,hover,save\"\n",
    "\n",
    "#Configuração do eixo e tamanho do grafico\n",
    "p = figure(title=\"Argentina\", tools=TOOLS, x_axis_location=None, y_axis_location=None, width=280, height=440)\n",
    "p.grid.grid_line_color = None\n",
    "p.background_fill_color = \"whitesmoke\"\n",
    "p.border_fill_color = \"whitesmoke\"\n",
    "p.outline_line_color = None\n",
    "\n",
    "#Irá colorir o mapa field com dados de 2014\n",
    "p.patches('xs', 'ys', fill_alpha=0.7, fill_color={'field': '2015', 'transform': color_mapper}, \n",
    "          line_color='white', line_width=0.5, source=geo_source)\n",
    "\n",
    "#Caso queira adicionar interação colocar em (p.patches = hover_color=\"pink\", hover_alpha=0.8)\n",
    "#Interação com mouse\n",
    "hover = p.select_one(HoverTool)\n",
    "hover.point_policy = \"follow_mouse\"\n",
    "hover.tooltips = [(\"Provincia:\", \"@NOMPROV\"), ('Crimes:', '@2015')]\n",
    "\n",
    "#output_file(\"argentina.html\")\n",
    "output_notebook()\n"
   ]
  },
  {
   "cell_type": "code",
   "execution_count": null,
   "metadata": {
    "scrolled": false
   },
   "outputs": [],
   "source": [
    "show(p)"
   ]
  },
  {
   "cell_type": "code",
   "execution_count": null,
   "metadata": {},
   "outputs": [],
   "source": []
  }
 ],
 "metadata": {
  "kernelspec": {
   "display_name": "Python 3",
   "language": "python",
   "name": "python3"
  },
  "language_info": {
   "codemirror_mode": {
    "name": "ipython",
    "version": 3
   },
   "file_extension": ".py",
   "mimetype": "text/x-python",
   "name": "python",
   "nbconvert_exporter": "python",
   "pygments_lexer": "ipython3",
   "version": "3.6.4"
  }
 },
 "nbformat": 4,
 "nbformat_minor": 2
}
