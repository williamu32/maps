{
 "cells": [
  {
   "cell_type": "markdown",
   "metadata": {},
   "source": [
    "# Example of choropleth for the State of Goias\n",
    "### Exemplo de choropleth para o Estado de Goiás"
   ]
  },
  {
   "cell_type": "code",
   "execution_count": null,
   "metadata": {},
   "outputs": [],
   "source": [
    "import requests\n",
    "import geopandas as gpd\n",
    "import pandas as pd\n",
    "import json\n",
    "import ipywidgets as widgets\n",
    "from bqplot import (\n",
    "    Figure, Map, Mercator, ColorScale, ColorAxis,\n",
    "    Tooltip\n",
    ")"
   ]
  },
  {
   "cell_type": "code",
   "execution_count": null,
   "metadata": {},
   "outputs": [],
   "source": [
    "#Acesso API Ibge malhas GO\n",
    "url = 'http://servicodados.ibge.gov.br/api/v2/malhas/52/?resolucao=5'\n",
    "headers = {'Accept': 'application/vnd.geo+json'}\n",
    "r = requests.get(url, headers=headers)\n",
    "#Resposta do API em JSON\n",
    "j = r.json()\n",
    "#Visualuar chaves JSON\n",
    "print(j.keys())\n",
    "print('############################################')\n",
    "\n",
    "#Acesso API Ibge Localidades id e nome municipios GO\n",
    "urlmun = requests.get('http://servicodados.ibge.gov.br/api/v1/localidades/estados/52/municipios')\n",
    "mun = urlmun.json()\n",
    "#Visualizar lista mun JSON\n",
    "#print(mun[1])"
   ]
  },
  {
   "cell_type": "code",
   "execution_count": null,
   "metadata": {},
   "outputs": [],
   "source": [
    "#Converter JSON informando keys em GeoDataFrame\n",
    "goias = gpd.GeoDataFrame.from_features(j['features'])\n",
    "goias.rename(columns={'codarea': 'id'}, inplace=True)\n",
    "goias.id = goias.id.astype('int64')\n",
    "#goias.id.dtype"
   ]
  },
  {
   "cell_type": "code",
   "execution_count": null,
   "metadata": {},
   "outputs": [],
   "source": [
    "#DataFrame apenas com id e nome\n",
    "dfmun = pd.DataFrame(mun, columns=['id', 'nome'])\n",
    "#dfmun.id.dtype"
   ]
  },
  {
   "cell_type": "code",
   "execution_count": null,
   "metadata": {},
   "outputs": [],
   "source": [
    "pibgo = pd.read_excel('data/gopibper.xlsx', usecols=[0,2])\n",
    "pibgo.rename(columns={'CD_GEOCMU': 'id'}, inplace=True)\n",
    "#pibgo.id.dtype"
   ]
  },
  {
   "cell_type": "code",
   "execution_count": null,
   "metadata": {},
   "outputs": [],
   "source": [
    "#Verificar de Key dos DataFrames são iguais\n",
    "#Junta do DataFrames \n",
    "#Abaixo converte para mesmo formato \n",
    "#Merge ou mescla dos DataFrame\n",
    "gdf = gpd.GeoDataFrame(pd.merge(pd.merge(goias, dfmun), pibgo))"
   ]
  },
  {
   "cell_type": "code",
   "execution_count": null,
   "metadata": {
    "scrolled": true
   },
   "outputs": [],
   "source": [
    "gdf.head(3)"
   ]
  },
  {
   "cell_type": "code",
   "execution_count": null,
   "metadata": {},
   "outputs": [],
   "source": [
    "#Ler JSON\n",
    "goias = json.loads(gdf.to_json())\n",
    "#print(type(goias))"
   ]
  },
  {
   "cell_type": "code",
   "execution_count": null,
   "metadata": {},
   "outputs": [],
   "source": [
    "gdf['A'] = list(range(len(gdf.index)))"
   ]
  },
  {
   "cell_type": "code",
   "execution_count": null,
   "metadata": {},
   "outputs": [],
   "source": [
    "sc_geo = Mercator(scale_factor=6000, center= (-49.555, -14.8799))\n",
    "def_tt = Tooltip(fields=['nome', 'pib_percapita'], labels=['Município', 'PIB per capita $'], formats=['', '$,'])\n",
    "\n",
    "sc_c1 = ColorScale(colors=['Red', 'Gray', 'DeepSkyBlue'])\n",
    "\n",
    "#sc_c1 = ColorScale(scheme='PuBu')\n",
    "#sc_c1 = ColorScale(colors=['#63f5cb', 'Gray', 'DeepSkyBlue'])\n",
    "\n",
    "\n",
    "map_styles = {'color': dict(zip(gdf['A'], gdf['pib_percapita'].astype(float))),\n",
    "              'scales': {'projection': sc_geo, 'color': sc_c1}, 'colors': {'default_color': 'Grey'}}\n",
    "\n",
    "axis = ColorAxis(scale=sc_c1, tick_format='.2s', num_ticks=5)\n",
    "\n",
    "chloro_map = Map(map_data=goias, tooltip=def_tt, **map_styles)\n",
    "Figure(marks=[chloro_map], axes=[axis],title='Choropleth Example GO', \n",
    "       fig_margin={'right':60, 'left':60, 'top':60, 'bottom':60},\n",
    "      layout=widgets.Layout(width='600px',height='600px'))"
   ]
  },
  {
   "cell_type": "code",
   "execution_count": null,
   "metadata": {},
   "outputs": [],
   "source": []
  }
 ],
 "metadata": {
  "kernelspec": {
   "display_name": "Python 3",
   "language": "python",
   "name": "python3"
  },
  "language_info": {
   "codemirror_mode": {
    "name": "ipython",
    "version": 3
   },
   "file_extension": ".py",
   "mimetype": "text/x-python",
   "name": "python",
   "nbconvert_exporter": "python",
   "pygments_lexer": "ipython3",
   "version": "3.6.4"
  }
 },
 "nbformat": 4,
 "nbformat_minor": 2
}
