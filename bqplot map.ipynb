{
 "cells": [
  {
   "cell_type": "markdown",
   "metadata": {},
   "source": [
    "# Example of map to Argentina\n",
    "### Exemplo de mapa para a Argentina"
   ]
  },
  {
   "cell_type": "code",
   "execution_count": null,
   "metadata": {},
   "outputs": [],
   "source": [
    "import requests\n",
    "import geopandas as gpd\n",
    "import pandas as pd\n",
    "import json\n",
    "import ipywidgets as widgets\n",
    "from bqplot import pyplot as plt\n",
    "from bqplot import (\n",
    "    Figure, Map, Mercator, ColorScale, ColorAxis,\n",
    "    Tooltip\n",
    ")"
   ]
  },
  {
   "cell_type": "code",
   "execution_count": null,
   "metadata": {
    "scrolled": false
   },
   "outputs": [],
   "source": [
    "ar = gpd.read_file('data/argentina.geojson')"
   ]
  },
  {
   "cell_type": "code",
   "execution_count": null,
   "metadata": {
    "scrolled": true
   },
   "outputs": [],
   "source": [
    "#Ler JSON\n",
    "argentina = json.loads(ar.to_json())\n",
    "print(type(argentina))"
   ]
  },
  {
   "cell_type": "code",
   "execution_count": null,
   "metadata": {},
   "outputs": [],
   "source": [
    "ar['A'] = list(range(len(ar.index)))"
   ]
  },
  {
   "cell_type": "code",
   "execution_count": null,
   "metadata": {
    "scrolled": false
   },
   "outputs": [],
   "source": [
    "sc_geo = Mercator(scale_factor=1000, center= (-63.9167, -34.8161))\n",
    "\n",
    "def_tt = Tooltip(fields=['NOMPROV', '2014'])\n",
    "\n",
    "sc_c1 = ColorScale(colors=['Red', 'Gray', 'DeepSkyBlue'])\n",
    "\n",
    "map_styles = {'color': dict(zip(ar['A'], ar['2014'].astype(float))),\n",
    "              'scales': {'projection': sc_geo, 'color': sc_c1}, 'colors': {'default_color': 'Grey'}}\n",
    "\n",
    "axis = ColorAxis(scale=sc_c1, tick_format='0.3f', num_ticks=5)\n",
    "\n",
    "chloro_map = Map(map_data=argentina, tooltip=def_tt, **map_styles)\n",
    "Figure(marks=[chloro_map], axes=[axis],title='Choropleth Example', \n",
    "       fig_margin={'right':60, 'left':60, 'top':60, 'bottom':60},\n",
    "      layout=widgets.Layout(width='600px',height='600px'))"
   ]
  },
  {
   "cell_type": "code",
   "execution_count": null,
   "metadata": {
    "scrolled": true
   },
   "outputs": [],
   "source": [
    "map_fig = plt.figure(layout=widgets.Layout(width='600px',height='600px'))\n",
    "ma_res = plt.geo(map_data=argentina, stoke_color='black',\n",
    "                colors={'default_color': 'Black'},\n",
    "                scales={'projection':sc_geo,\n",
    "                       'color': sc_c1},\n",
    "                       color=dict(zip(ar['A'], ar['2014'].astype(float))), tooltip=def_tt)\n",
    "map_fig.axes=[]\n",
    "map_fig.axes=[axis]"
   ]
  },
  {
   "cell_type": "code",
   "execution_count": null,
   "metadata": {
    "scrolled": false
   },
   "outputs": [],
   "source": [
    "map_fig"
   ]
  },
  {
   "cell_type": "code",
   "execution_count": null,
   "metadata": {},
   "outputs": [],
   "source": []
  }
 ],
 "metadata": {
  "kernelspec": {
   "display_name": "Python 3",
   "language": "python",
   "name": "python3"
  },
  "language_info": {
   "codemirror_mode": {
    "name": "ipython",
    "version": 3
   },
   "file_extension": ".py",
   "mimetype": "text/x-python",
   "name": "python",
   "nbconvert_exporter": "python",
   "pygments_lexer": "ipython3",
   "version": "3.6.4"
  }
 },
 "nbformat": 4,
 "nbformat_minor": 2
}
