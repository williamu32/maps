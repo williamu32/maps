{
 "cells": [
  {
   "cell_type": "markdown",
   "metadata": {},
   "source": [
    "# Example choropleth for City of Goiania\n",
    "### Exemplo de choropleth para a Cidade de Goiânia"
   ]
  },
  {
   "cell_type": "code",
   "execution_count": null,
   "metadata": {
    "scrolled": true
   },
   "outputs": [],
   "source": [
    "import geopandas as gpd\n",
    "import folium\n",
    "from branca.element import Figure\n",
    "from folium import plugins\n",
    "print(folium.__version__)"
   ]
  },
  {
   "cell_type": "code",
   "execution_count": null,
   "metadata": {},
   "outputs": [],
   "source": [
    "uf = gpd.read_file('data/shapefile/52MUE250GC_SIR.shp')\n",
    "goiania = uf.query('CD_GEOCMU == [\"5208707\"]')"
   ]
  },
  {
   "cell_type": "code",
   "execution_count": null,
   "metadata": {},
   "outputs": [],
   "source": [
    "#Tamanho que irá aparecer o map \n",
    "width, height = 480, 350"
   ]
  },
  {
   "cell_type": "code",
   "execution_count": null,
   "metadata": {
    "scrolled": false
   },
   "outputs": [],
   "source": [
    "width, height = 480, 350\n",
    "\n",
    "#fig = Figure(width=width, height=height) #Ajustar ao jupyter\n",
    "\n",
    "m = folium.Map([-16.6428, -49.2588], tiles='Cartodb Positron', width='100%', height='100%', zoom_start=10)\n",
    "folium.GeoJson(goiania,).add_to(m)\n",
    "\n",
    "#Marcador no map\n",
    "folium.Marker(\n",
    "    location=[-16.713892, -49.302692],\n",
    "    popup=folium.Popup(\"SESI JARDIM PLANALTO\", parse_html=True)\n",
    ").add_to(m)\n",
    "\n",
    "folium.Marker(\n",
    "    location=[-16.672324, -49.295681],\n",
    "    popup=folium.Popup(\"SESI CAMPINAS\", parse_html=True)\n",
    ").add_to(m)\n",
    "\n",
    "#Botão Fullscreen Desabilitar fig = Figure\n",
    "plugins.Fullscreen(\n",
    "    position='topright',\n",
    "    title='Expand me',\n",
    "    title_cancel='Exit me',\n",
    "    force_separate_button=True).add_to(m)\n",
    "\n",
    "#fig.add_child(m) #Ajustar ao jupyter\n",
    "#fig #Ajustar ao jupyter\n",
    "m"
   ]
  },
  {
   "cell_type": "code",
   "execution_count": null,
   "metadata": {},
   "outputs": [],
   "source": [
    "m"
   ]
  },
  {
   "cell_type": "code",
   "execution_count": null,
   "metadata": {},
   "outputs": [],
   "source": []
  }
 ],
 "metadata": {
  "kernelspec": {
   "display_name": "Python 3",
   "language": "python",
   "name": "python3"
  },
  "language_info": {
   "codemirror_mode": {
    "name": "ipython",
    "version": 3
   },
   "file_extension": ".py",
   "mimetype": "text/x-python",
   "name": "python",
   "nbconvert_exporter": "python",
   "pygments_lexer": "ipython3",
   "version": "3.6.4"
  }
 },
 "nbformat": 4,
 "nbformat_minor": 2
}
