{
 "cells": [
  {
   "cell_type": "markdown",
   "metadata": {},
   "source": [
    "# Example ***IBGE API*** data Goias\n",
    "### Exemplo dados do ***IBGE API*** Goiás"
   ]
  },
  {
   "cell_type": "code",
   "execution_count": null,
   "metadata": {},
   "outputs": [],
   "source": [
    "import requests\n",
    "import pandas as pd\n",
    "import geopandas as gpd\n",
    "import folium"
   ]
  },
  {
   "cell_type": "code",
   "execution_count": null,
   "metadata": {
    "scrolled": true
   },
   "outputs": [],
   "source": [
    "#Acesso API Ibge malhas GO\n",
    "url = 'http://servicodados.ibge.gov.br/api/v2/malhas/52/?resolucao=5'\n",
    "headers = {'Accept': 'application/vnd.geo+json'}\n",
    "r = requests.get(url, headers=headers)\n",
    "#Resposta do API em JSON\n",
    "j = r.json()\n",
    "#Visualuar chaves JSON\n",
    "print(j.keys())\n",
    "print('############################################')\n",
    "\n",
    "#Acesso API Ibge Localidades id e nome municipios GO\n",
    "urlmun = requests.get('http://servicodados.ibge.gov.br/api/v1/localidades/estados/52/municipios')\n",
    "mun = urlmun.json()\n",
    "#Visualizar lista mun JSON\n",
    "print(mun[1])"
   ]
  },
  {
   "cell_type": "code",
   "execution_count": null,
   "metadata": {},
   "outputs": [],
   "source": [
    "#DataFrame apenas com id e nome\n",
    "dfmun = pd.DataFrame(mun, columns=['id', 'nome'])"
   ]
  },
  {
   "cell_type": "code",
   "execution_count": null,
   "metadata": {},
   "outputs": [],
   "source": [
    "#Restante dos dados de localidades\n",
    "dfrestante = pd.DataFrame(mun, columns=['microrregiao'])\n",
    "#Microrregião\n",
    "dfmicro = pd.DataFrame.from_dict(dfrestante['microrregiao'].to_dict(), orient='index')\n",
    "dfmicro.rename(columns={'id': 'idmicro', 'nome':'nomemicro'}, inplace=True)\n",
    "#Mesorregiao\n",
    "dfmeso = pd.DataFrame.from_dict(dfmicro['mesorregiao'].to_dict(), orient='index')\n",
    "dfmeso.rename(columns={'id': 'idmeso','nome':'nomemeso'}, inplace=True)\n",
    "#UF\n",
    "dfuf = pd.DataFrame.from_dict(dfmeso['UF'].to_dict(), orient='index')\n",
    "dfuf.rename(columns={'id': 'iduf','sigla':'siglauf', 'nome':'nomeuf'}, inplace=True)\n",
    "#Regiao\n",
    "dfregiao = pd.DataFrame.from_dict(dfuf['regiao'].to_dict(), orient='index')\n",
    "dfregiao.rename(columns={'id': 'idregiao', 'sigla':'siglaregiao', 'nome':'nomeregiao'}, inplace=True)"
   ]
  },
  {
   "cell_type": "code",
   "execution_count": null,
   "metadata": {},
   "outputs": [],
   "source": [
    "#Unir todos DataFrames\n",
    "result = pd.concat([dfmun, dfrestante, dfmicro, dfmeso, dfuf, dfregiao], axis=1)\n",
    "#result = pd.concat([dfmun, dfrestante, dfmicro, dfmeso, dfuf, dfregiao], axis=1, keys=['x1','x2', 'x3', 'x4', 'x5', 'x6'])\n",
    "dframes = result.drop(columns=['microrregiao', 'mesorregiao', 'UF', 'regiao'])"
   ]
  },
  {
   "cell_type": "code",
   "execution_count": null,
   "metadata": {},
   "outputs": [],
   "source": [
    "dframes.head(3)"
   ]
  },
  {
   "cell_type": "code",
   "execution_count": null,
   "metadata": {},
   "outputs": [],
   "source": [
    "#Converter JSON informando keys em GeoDataFrame\n",
    "goias = gpd.GeoDataFrame.from_features(j['features'])"
   ]
  },
  {
   "cell_type": "code",
   "execution_count": null,
   "metadata": {},
   "outputs": [],
   "source": [
    "goias.head(3)"
   ]
  },
  {
   "cell_type": "code",
   "execution_count": null,
   "metadata": {},
   "outputs": [],
   "source": [
    "goias.shape"
   ]
  },
  {
   "cell_type": "code",
   "execution_count": null,
   "metadata": {},
   "outputs": [],
   "source": [
    "#mapa usando folium\n",
    "geojson=goias.to_json()\n",
    "m = folium.Map(location=[-16, -49], tiles='Cartodb Positron', zoom_start=6)\n",
    "\n",
    "folium.GeoJson(geojson).add_to(m)\n",
    "\n",
    "#m.save(os.path.join('results', 'GeoJSON_and_choropleth_3.html'))\n",
    "m"
   ]
  },
  {
   "cell_type": "code",
   "execution_count": null,
   "metadata": {},
   "outputs": [],
   "source": []
  },
  {
   "cell_type": "code",
   "execution_count": null,
   "metadata": {},
   "outputs": [],
   "source": []
  }
 ],
 "metadata": {
  "kernelspec": {
   "display_name": "Python 3",
   "language": "python",
   "name": "python3"
  },
  "language_info": {
   "codemirror_mode": {
    "name": "ipython",
    "version": 3
   },
   "file_extension": ".py",
   "mimetype": "text/x-python",
   "name": "python",
   "nbconvert_exporter": "python",
   "pygments_lexer": "ipython3",
   "version": "3.6.4"
  }
 },
 "nbformat": 4,
 "nbformat_minor": 2
}
